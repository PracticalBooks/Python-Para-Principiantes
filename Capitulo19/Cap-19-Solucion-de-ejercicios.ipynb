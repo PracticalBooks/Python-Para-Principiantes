{
  "nbformat": 4,
  "nbformat_minor": 0,
  "metadata": {
    "colab": {
      "provenance": []
    },
    "kernelspec": {
      "name": "python3",
      "display_name": "Python 3"
    },
    "language_info": {
      "name": "python"
    }
  },
  "cells": [
    {
      "cell_type": "markdown",
      "source": [
        "**E5.4.**"
      ],
      "metadata": {
        "id": "jGxIrlg5VwIZ"
      }
    },
    {
      "cell_type": "code",
      "execution_count": null,
      "metadata": {
        "id": "YWYn-ZDtVsQ_"
      },
      "outputs": [],
      "source": [
        "nombre = \"Maria\"\n",
        "apellido = \"Perez\"\n",
        "edad = 25\n",
        "estatura = 1.70\n",
        "\n",
        "print(nombre)\n",
        "print(apellido)\n",
        "print(edad)\n",
        "print(estatura)"
      ]
    },
    {
      "cell_type": "markdown",
      "source": [
        "**E6.4.**"
      ],
      "metadata": {
        "id": "9cUwkJhfV2MF"
      }
    },
    {
      "cell_type": "code",
      "source": [
        "nombre = input(\"Ingrese el nombre: \")\n",
        "apellido = input(\"Ingrese el apellido: \")\n",
        "edad = int(input(\"Ingrese la edad: \"))\n",
        "estatura = float(input(\"Ingrese la estatura: \"))\n",
        "\n",
        "print(nombre)\n",
        "print(type(nombre))\n",
        "print(apellido)\n",
        "print(type(apellido))\n",
        "print(edad)\n",
        "print(type(edad))\n",
        "print(estatura)\n",
        "print(type(estatura))"
      ],
      "metadata": {
        "id": "A68rYKVBV3dh"
      },
      "execution_count": null,
      "outputs": []
    },
    {
      "cell_type": "markdown",
      "source": [
        "**E6.5.**"
      ],
      "metadata": {
        "id": "ZvqSO__dV4_w"
      }
    },
    {
      "cell_type": "code",
      "source": [
        "nombre = input(\"Ingrese el nombre: \")\n",
        "apellido = input(\"Ingrese el apellido: \")\n",
        "print(apellido + \" \" + nombre)"
      ],
      "metadata": {
        "id": "hRFPtEyMV6aY"
      },
      "execution_count": null,
      "outputs": []
    },
    {
      "cell_type": "markdown",
      "source": [
        "**E6.6.**"
      ],
      "metadata": {
        "id": "e5UFXWACV7tx"
      }
    },
    {
      "cell_type": "code",
      "source": [
        "anios = float(input(\"Ingrese el número de años: \"))\n",
        "mitadAnios = anios/2\n",
        "print(\"El asteroide caerá en: \" + str(mitadAnios)+ \" años\")"
      ],
      "metadata": {
        "id": "7ZCE5oCUV9Bx"
      },
      "execution_count": null,
      "outputs": []
    },
    {
      "cell_type": "markdown",
      "source": [
        "**E7.4.**"
      ],
      "metadata": {
        "id": "IduGV7nMWAxl"
      }
    },
    {
      "cell_type": "code",
      "source": [
        "distancia = float(input(\"Ingrese la distancia: \"))\n",
        "if(distancia <= 4):\n",
        "  print(\"Ya voy corriendo\")"
      ],
      "metadata": {
        "id": "Q1E9QlahWChS"
      },
      "execution_count": null,
      "outputs": []
    },
    {
      "cell_type": "markdown",
      "source": [
        "**E7.5.**"
      ],
      "metadata": {
        "id": "gdQIcHPZdkes"
      }
    },
    {
      "cell_type": "code",
      "source": [
        "jugador = int(input(\"Ingrese el número de la camiseta: \"))\n",
        "if(jugador == 19):\n",
        "  print(\"Andá pa allá, bobo\")"
      ],
      "metadata": {
        "id": "Uz8N712Pdl6H"
      },
      "execution_count": null,
      "outputs": []
    },
    {
      "cell_type": "markdown",
      "source": [
        "**E7.6.**"
      ],
      "metadata": {
        "id": "U0fMZPWYWDnR"
      }
    },
    {
      "cell_type": "code",
      "source": [
        "magnitud = float(input(\"Ingrese la magnitud: \"))\n",
        "if(magnitud >= 5.2):\n",
        "  print(\"Alerta de tsunami\")"
      ],
      "metadata": {
        "id": "Hod30pbUWFZg"
      },
      "execution_count": null,
      "outputs": []
    },
    {
      "cell_type": "markdown",
      "source": [
        "**E8.4.**"
      ],
      "metadata": {
        "id": "7DNJD3v2WH6w"
      }
    },
    {
      "cell_type": "code",
      "source": [
        "generoMusical = input(\"ingrese el género musical: \")\n",
        "if(generoMusical == \"Rock\"):\n",
        "  print(\"Tienes buen gusto\")\n",
        "else:\n",
        "  print(\"Qué asco\")"
      ],
      "metadata": {
        "id": "QTuVBt-4WJwR"
      },
      "execution_count": null,
      "outputs": []
    },
    {
      "cell_type": "markdown",
      "source": [
        "**E8.5.**"
      ],
      "metadata": {
        "id": "kjFUo76yWLMQ"
      }
    },
    {
      "cell_type": "code",
      "source": [
        "nombre1 = input(\"Ingrese el nombre del candidato 1: \")\n",
        "votos1 = input(\"Ingrese los votos del candidato 1: \")\n",
        "nombre2 = input(\"Ingrese el nombre del candidato 2: \")\n",
        "votos2 = input(\"Ingrese los votos del candidato 2: \")\n",
        "\n",
        "if(votos1 > votos2):\n",
        "  print(nombre1)\n",
        "elif(votos2 > votos1):\n",
        "  print(nombre2)\n",
        "else:\n",
        "  print(\"Empate\")"
      ],
      "metadata": {
        "id": "_VFDcBgjWMYS"
      },
      "execution_count": null,
      "outputs": []
    },
    {
      "cell_type": "markdown",
      "source": [
        "**E9.4.**"
      ],
      "metadata": {
        "id": "RpOpvkUZWObR"
      }
    },
    {
      "cell_type": "code",
      "source": [
        "numero = int(input(\"Ingrese un número: \"))\n",
        "i = 0\n",
        "while(i < numero):\n",
        "  print(\"****\")\n",
        "  i = i+1"
      ],
      "metadata": {
        "id": "rWu3qn53WP1C"
      },
      "execution_count": null,
      "outputs": []
    },
    {
      "cell_type": "markdown",
      "source": [
        "**E9.5.**"
      ],
      "metadata": {
        "id": "KCRMWw-8WRFq"
      }
    },
    {
      "cell_type": "code",
      "source": [
        "while(True):\n",
        "  palabra = input(\"Ingrese una palabra: \")\n",
        "  if(palabra != \"Roberto\"):\n",
        "    print(\"Clave incorrecta\")\n",
        "  else:\n",
        "    print(\"Clave correcta\")\n",
        "    break"
      ],
      "metadata": {
        "id": "BlBXWta1WSXK"
      },
      "execution_count": null,
      "outputs": []
    },
    {
      "cell_type": "markdown",
      "source": [
        "**E10.4.**"
      ],
      "metadata": {
        "id": "L_bJM07LWT25"
      }
    },
    {
      "cell_type": "code",
      "source": [
        "texto = input(\"Ingrese un texto: \")\n",
        "primero = texto[0]\n",
        "ultimo = texto[len(texto)-1]\n",
        "print(primero + ultimo)"
      ],
      "metadata": {
        "id": "UDFtN_MUWVwj"
      },
      "execution_count": null,
      "outputs": []
    },
    {
      "cell_type": "markdown",
      "source": [
        "**E10.5.**"
      ],
      "metadata": {
        "id": "4vhhq8L4WXAB"
      }
    },
    {
      "cell_type": "code",
      "source": [
        "texto = input(\"Ingrese un texto: \")\n",
        "posZ = texto.find(\"z\")\n",
        "if(posZ != -1):\n",
        "  print(\"Texto contiene letra z\")\n",
        "else:\n",
        "  print(\"Texto no contiene letra z\")"
      ],
      "metadata": {
        "id": "jI7M-NOsWYh6"
      },
      "execution_count": null,
      "outputs": []
    },
    {
      "cell_type": "markdown",
      "source": [
        "**E10.6.**"
      ],
      "metadata": {
        "id": "NqfrM_EKWaCx"
      }
    },
    {
      "cell_type": "code",
      "source": [
        "palabra = input(\"Ingrese una palabra: \")\n",
        "i = 0\n",
        "while(i < len(palabra)):\n",
        "  if(palabra[i] != \"a\" and palabra[i] != \"e\" and palabra[i] != \"i\" and palabra[i] != \"o\" and palabra[i] != \"u\"):\n",
        "    print(palabra[i])\n",
        "  i = i+1"
      ],
      "metadata": {
        "id": "S3Q0EwLMWbaC"
      },
      "execution_count": null,
      "outputs": []
    },
    {
      "cell_type": "markdown",
      "source": [
        "**E11.4.**"
      ],
      "metadata": {
        "id": "STHY4UNCWc_h"
      }
    },
    {
      "cell_type": "code",
      "source": [
        "pelicula1 = input(\"Ingrese el nombre la primera pelicula favorita: \")\n",
        "pelicula2 = input(\"Ingrese el nombre la segunda pelicula favorita: \")\n",
        "pelicula3 = input(\"Ingrese el nombre la tercera pelicula favorita: \")\n",
        "pelicula4 = input(\"Ingrese el nombre la cuarta pelicula favorita: \")\n",
        "\n",
        "peliculas = []\n",
        "peliculas.append(pelicula1)\n",
        "peliculas.append(pelicula2)\n",
        "peliculas.append(pelicula3)\n",
        "peliculas.append(pelicula4)\n",
        "\n",
        "print(peliculas)"
      ],
      "metadata": {
        "id": "rVybd7JtWe2q"
      },
      "execution_count": null,
      "outputs": []
    },
    {
      "cell_type": "markdown",
      "source": [
        "**E11.5.**"
      ],
      "metadata": {
        "id": "8DzYsUxmWgUa"
      }
    },
    {
      "cell_type": "code",
      "source": [
        "mensajeSecreto = [\"Planeta\", \"Más\", \"Secreto\", \"Alienigena\", \"Zombie\", \"Serás\", \"Nuclear\", \"Vos\"]\n",
        "\n",
        "i = 1\n",
        "while(i < len(mensajeSecreto)):\n",
        "  print(mensajeSecreto[i])\n",
        "  i = i+2"
      ],
      "metadata": {
        "id": "EEsIpyQEWhxD"
      },
      "execution_count": null,
      "outputs": []
    },
    {
      "cell_type": "markdown",
      "source": [
        "**E12.4.**"
      ],
      "metadata": {
        "id": "7HFdKdZRWlXY"
      }
    },
    {
      "cell_type": "code",
      "source": [
        "nombre = input(\"Ingrese nombre de mascota: \")\n",
        "edad = int(input(\"Ingrese edad de mascota: \"))\n",
        "raza = input(\"Ingrese raza de mascota: \")\n",
        "\n",
        "mascota = {\n",
        "  \"nombre\":nombre,\n",
        "  \"edad\":edad,\n",
        "  \"raza\":raza\n",
        "}\n",
        "\n",
        "print(mascota)"
      ],
      "metadata": {
        "id": "AIQDkuPDWmoT"
      },
      "execution_count": null,
      "outputs": []
    },
    {
      "cell_type": "markdown",
      "source": [
        "**E12.5.**"
      ],
      "metadata": {
        "id": "XKMzD8-IWoUb"
      }
    },
    {
      "cell_type": "code",
      "source": [
        "numero = int(input(\"Ingrese numero: \"))\n",
        "equipos = []\n",
        "\n",
        "i = 1\n",
        "while(i<=numero):\n",
        "  nombre = input(\"Ingrese nombre del equipo: \")\n",
        "  pais = input(\"Ingrese país de origen: \")\n",
        "  equipo = {\"nombre\":nombre, \"pais\":pais}\n",
        "  equipos.append(equipo)\n",
        "  i=i+1\n",
        "\n",
        "print(equipos)"
      ],
      "metadata": {
        "id": "c3wihqZTWp5j"
      },
      "execution_count": null,
      "outputs": []
    },
    {
      "cell_type": "markdown",
      "source": [
        "**E13.4.i.**"
      ],
      "metadata": {
        "id": "BFTWJk7xWsFT"
      }
    },
    {
      "cell_type": "code",
      "source": [
        "for i in range(1,81,1):\n",
        "  print(i)"
      ],
      "metadata": {
        "id": "Dtgd52GJWtZs"
      },
      "execution_count": null,
      "outputs": []
    },
    {
      "cell_type": "markdown",
      "source": [
        "**E13.4.ii.**"
      ],
      "metadata": {
        "id": "nF_WcHCFWu5b"
      }
    },
    {
      "cell_type": "code",
      "source": [
        "for i in range(1000,-1,-100):\n",
        "  print(i)"
      ],
      "metadata": {
        "id": "tudM8EdaWwf6"
      },
      "execution_count": null,
      "outputs": []
    },
    {
      "cell_type": "markdown",
      "source": [
        "**E13.4.iii.**"
      ],
      "metadata": {
        "id": "qPbNsVI6Wxoa"
      }
    },
    {
      "cell_type": "code",
      "source": [
        "for i in range(2,67,2):\n",
        "  print(i)"
      ],
      "metadata": {
        "id": "-U6UvtK-WzDa"
      },
      "execution_count": null,
      "outputs": []
    },
    {
      "cell_type": "markdown",
      "source": [
        "**E13.5.**"
      ],
      "metadata": {
        "id": "1uBxnvbFW0db"
      }
    },
    {
      "cell_type": "code",
      "source": [
        "nombre1 = input(\"Ingrese nombre 1: \")\n",
        "nombre2 = input(\"Ingrese nombre 2: \")\n",
        "nombre3 = input(\"Ingrese nombre 3: \")\n",
        "nombre4 = input(\"Ingrese nombre 4: \")\n",
        "\n",
        "nombres = [nombre1, nombre2, nombre3, nombre4]\n",
        "\n",
        "for nombre in nombres:\n",
        "  if(nombre[0] == \"L\"):\n",
        "    print(\"Nombre descartado\")\n",
        "  else:\n",
        "    print(\"Nombre posible\")"
      ],
      "metadata": {
        "id": "I0SnzrylW1wj"
      },
      "execution_count": null,
      "outputs": []
    },
    {
      "cell_type": "markdown",
      "source": [
        "**E14.4**"
      ],
      "metadata": {
        "id": "c09fjJhSW3ui"
      }
    },
    {
      "cell_type": "code",
      "source": [
        "def primerNombre(nombres):\n",
        "  print(nombres[0])\n",
        "\n",
        "nombres = [\"Zeus\", \"Poseidon\", \"Ares\"]\n",
        "primerNombre(nombres)"
      ],
      "metadata": {
        "id": "YbM9cOwTW5Pi"
      },
      "execution_count": null,
      "outputs": []
    },
    {
      "cell_type": "markdown",
      "source": [
        "**E14.5.**"
      ],
      "metadata": {
        "id": "cPQcntlnW7oP"
      }
    },
    {
      "cell_type": "code",
      "source": [
        "def sumar():\n",
        "  num1 = float(input(\"Ingrese el primer número: \"))\n",
        "  num2 = float(input(\"Ingrese el segundo número: \"))\n",
        "  resultado = num1+num2\n",
        "  print(\"La suma es: \"+str(resultado))\n",
        "  \n",
        "def restar():\n",
        "  num1 = float(input(\"Ingrese el primer número: \"))\n",
        "  num2 = float(input(\"Ingrese el segundo número: \"))\n",
        "  resultado = num1-num2\n",
        "  print(\"La resta es: \"+str(resultado))\n",
        "\n",
        "def multiplicar():\n",
        "  num1 = float(input(\"Ingrese el primer número: \"))\n",
        "  num2 = float(input(\"Ingrese el segundo número: \"))\n",
        "  resultado = num1*num2\n",
        "  print(\"La multiplicación es: \"+str(resultado))\n",
        "\n",
        "def dividir():\n",
        "  num1 = float(input(\"Ingrese el primer número: \"))\n",
        "  num2 = float(input(\"Ingrese el segundo número: \"))\n",
        "  if(num2 != 0):\n",
        "    resultado = num1/num2\n",
        "    print(\"La división es: \"+str(resultado))\n",
        "  else:\n",
        "    print(\"Denominador inválido\")\n",
        "\n",
        "def elevarCuadrado():\n",
        "  num1 = float(input(\"Ingrese el número: \"))\n",
        "  resultado = num1*num1\n",
        "  print(\"El cuadrado es: \"+str(resultado))\n",
        "\n",
        "while(True):\n",
        "  print(\"----Ingrese----\")\n",
        "  print(\"1) Para sumar\")\n",
        "  print(\"2) Para restar\")\n",
        "  print(\"3) Para multiplicar\")\n",
        "  print(\"4) Para dividir\")\n",
        "  print(\"5) Para elevar al cuadrado\")\n",
        "  print(\"0) Para salir\")\n",
        "  accion = int(input())\n",
        "  if(accion == 1):\n",
        "    sumar()\n",
        "  elif(accion == 2):\n",
        "    restar()\n",
        "  elif(accion == 3):\n",
        "    multiplicar()\n",
        "  elif(accion == 4):\n",
        "    dividir()\n",
        "  elif(accion == 5):\n",
        "    elevarCuadrado()\n",
        "  elif(accion == 0):\n",
        "    print(\"Chao\")\n",
        "    break"
      ],
      "metadata": {
        "id": "Rp0PkOuSW81x"
      },
      "execution_count": null,
      "outputs": []
    },
    {
      "cell_type": "markdown",
      "source": [
        "**E15.3.**"
      ],
      "metadata": {
        "id": "yW-pnJ02XSDi"
      }
    },
    {
      "cell_type": "code",
      "source": [
        "a1 = {\"nombre\":\"2022 HX1\", \"distancia\":2490000}\n",
        "a2 = {\"nombre\":\"2022 HA2\", \"distancia\":4620000}\n",
        "a3 = {\"nombre\":\"101955 Bennu\", \"distancia\":32490000}\n",
        "asteroides = [a1, a2, a3]\n",
        "\n",
        "contador = 0\n",
        "for asteroide in asteroides:\n",
        "  if(asteroide[\"distancia\"] < 7500000):\n",
        "    contador = contador+1\n",
        "\n",
        "print(\"Asteroides con alta probabilidad de colisión: \"+str(contador))"
      ],
      "metadata": {
        "id": "34Cp_c9IXY-s"
      },
      "execution_count": null,
      "outputs": []
    },
    {
      "cell_type": "markdown",
      "source": [
        "**E15.4.**"
      ],
      "metadata": {
        "id": "8O_8OhgpXaok"
      }
    },
    {
      "cell_type": "code",
      "source": [
        "a1 = {\"nombre\":\"2022 HX1\", \"distancia\":2490000}\n",
        "a2 = {\"nombre\":\"2022 HA2\", \"distancia\":4620000}\n",
        "a3 = {\"nombre\":\"101955 Bennu\", \"distancia\":32490000}\n",
        "asteroides = [a1, a2, a3]\n",
        "\n",
        "acumulador = 0\n",
        "for asteroide in asteroides:\n",
        "  acumulador = acumulador+asteroide[\"distancia\"]\n",
        "\n",
        "promedio = acumulador/len(asteroides)\n",
        "print(\"Promedio de distancia de asteroides: \"+str(promedio))"
      ],
      "metadata": {
        "id": "KFDWhdDOXeFD"
      },
      "execution_count": null,
      "outputs": []
    },
    {
      "cell_type": "markdown",
      "source": [
        "**E16.3.i.**"
      ],
      "metadata": {
        "id": "X-Le4r_bX7us"
      }
    },
    {
      "cell_type": "code",
      "source": [
        "archivoCanciones = open(\"canciones.csv\")\n",
        "contenidoPorLineas = archivoCanciones.readlines()\n",
        "\n",
        "i = 1\n",
        "while(i < len(contenidoPorLineas)):\n",
        "  lineaLimpia = contenidoPorLineas[i].strip()\n",
        "  datosCancion = lineaLimpia.split(\",\")\n",
        "  if(int(datosCancion[4]) == 2000):\n",
        "    print(datosCancion[1])\n",
        "  i = i+1"
      ],
      "metadata": {
        "id": "jEaMMbDsYDSM"
      },
      "execution_count": null,
      "outputs": []
    },
    {
      "cell_type": "markdown",
      "source": [
        "**E16.3.ii.**"
      ],
      "metadata": {
        "id": "hnI0t3ITYDY0"
      }
    },
    {
      "cell_type": "code",
      "source": [
        "archivoCanciones = open(\"canciones.csv\")\n",
        "contenidoPorLineas = archivoCanciones.readlines()\n",
        "\n",
        "i = 1\n",
        "while(i < len(contenidoPorLineas)):\n",
        "  lineaLimpia = contenidoPorLineas[i].strip()\n",
        "  datosCancion = lineaLimpia.split(\",\")\n",
        "  if(datosCancion[0] == \"Eminem\"):\n",
        "    print(datosCancion[1])\n",
        "  i = i+1"
      ],
      "metadata": {
        "id": "6-sMgdvnYENM"
      },
      "execution_count": null,
      "outputs": []
    },
    {
      "cell_type": "markdown",
      "source": [
        "**E16.3.iii.**"
      ],
      "metadata": {
        "id": "lz36ui5fYEUE"
      }
    },
    {
      "cell_type": "code",
      "source": [
        "archivoCanciones = open(\"canciones.csv\")\n",
        "contenidoPorLineas = archivoCanciones.readlines()\n",
        "\n",
        "i = 1\n",
        "while(i < len(contenidoPorLineas)):\n",
        "  lineaLimpia = contenidoPorLineas[i].strip()\n",
        "  datosCancion = lineaLimpia.split(\",\")\n",
        "  if(datosCancion[1][0] == \"D\"):\n",
        "    print(datosCancion[1])\n",
        "  i = i+1"
      ],
      "metadata": {
        "id": "AcMq9U4_YFKU"
      },
      "execution_count": null,
      "outputs": []
    },
    {
      "cell_type": "markdown",
      "source": [
        "**E16.3.iv.**"
      ],
      "metadata": {
        "id": "SENrkmjHYFRW"
      }
    },
    {
      "cell_type": "code",
      "source": [
        "archivoCanciones = open(\"canciones.csv\")\n",
        "contenidoPorLineas = archivoCanciones.readlines()\n",
        "\n",
        "contador = 0\n",
        "i = 1\n",
        "while(i < len(contenidoPorLineas)):\n",
        "  lineaLimpia = contenidoPorLineas[i].strip()\n",
        "  datosCancion = lineaLimpia.split(\",\")\n",
        "  if(int(datosCancion[2]) > 400000):\n",
        "    contador = contador+1\n",
        "  i = i+1\n",
        "\n",
        "print(contador)"
      ],
      "metadata": {
        "id": "6raI27xGYGZ9"
      },
      "execution_count": null,
      "outputs": []
    },
    {
      "cell_type": "markdown",
      "source": [
        "**E16.3.v.**"
      ],
      "metadata": {
        "id": "zHKpvthdYGgE"
      }
    },
    {
      "cell_type": "code",
      "source": [
        "archivoCanciones = open(\"canciones.csv\")\n",
        "contenidoPorLineas = archivoCanciones.readlines()\n",
        "\n",
        "acumulador = 0\n",
        "\n",
        "i = 1\n",
        "while(i < len(contenidoPorLineas)):\n",
        "  lineaLimpia = contenidoPorLineas[i].strip()\n",
        "  datosCancion = lineaLimpia.split(\",\")\n",
        "  acumulador = acumulador+int(datosCancion[5])\n",
        "  i = i+1\n",
        "\n",
        "promedio = acumulador/(len(contenidoPorLineas)-1) # menos 1 por la cabecera de las columnas\n",
        "print(promedio)"
      ],
      "metadata": {
        "id": "CMcriTO8YqiW"
      },
      "execution_count": null,
      "outputs": []
    },
    {
      "cell_type": "markdown",
      "source": [
        "**E17.4.**"
      ],
      "metadata": {
        "id": "A-0_L6AXE8Zu"
      }
    },
    {
      "cell_type": "code",
      "source": [
        "import matplotlib.pyplot as plt\n",
        "\n",
        "x = [2046, 2047, 2048, 2049, 2050]\n",
        "y = [0, 1, 8, 14, 2]\n",
        "\n",
        "plt.bar(x, y)\n",
        "plt.xlabel(\"Año\")\n",
        "plt.ylabel(\"Millones de Zombies\")\n",
        "plt.show()"
      ],
      "metadata": {
        "id": "LBh9dUKrE-Ic"
      },
      "execution_count": null,
      "outputs": []
    }
  ]
}